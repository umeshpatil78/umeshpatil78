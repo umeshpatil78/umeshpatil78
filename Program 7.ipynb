{
 "cells": [
  {
   "cell_type": "markdown",
   "metadata": {
    "id": "BfC7ItAxveq8"
   },
   "source": [
    "**Write a program to demonstrate working with dictionaries in python**"
   ]
  },
  {
   "cell_type": "code",
   "execution_count": 1,
   "metadata": {
    "colab": {
     "base_uri": "https://localhost:8080/"
    },
    "executionInfo": {
     "elapsed": 451,
     "status": "ok",
     "timestamp": 1641898057329,
     "user": {
      "displayName": "Vinit Patel",
      "photoUrl": "https://lh3.googleusercontent.com/a-/AOh14GhaWw1VeSfZPTfpE5z0PQimeo-VI1DIpVXk--IDpw=s64",
      "userId": "03921918086117423147"
     },
     "user_tz": -330
    },
    "id": "JGGSGLKUvgso",
    "outputId": "4f769f50-0d13-4db5-a847-35bcc299129a"
   },
   "outputs": [
    {
     "name": "stdout",
     "output_type": "stream",
     "text": [
      "\n",
      " Dictionary is : {'StdNo': '532', 'StuName': 'Naveen', 'StuAge': 21, 'StuCity': 'Hyderabad'}\n",
      "\n",
      " Student Name is : Naveen\n",
      "\n",
      " Student City is : Hyderabad\n",
      "\n",
      " All Keys in Dictionary \n",
      "StdNo\n",
      "StuName\n",
      "StuAge\n",
      "StuCity\n",
      "\n",
      " All Values in Dictionary \n",
      "532\n",
      "Naveen\n",
      "21\n",
      "Hyderabad\n",
      "\n",
      " Uadated Dictionary is : {'StdNo': '532', 'StuName': 'Naveen', 'StuAge': 21, 'StuCity': 'Hyderabad', 'Phno': 85457854}\n",
      "\n",
      " Uadated Dictionary is : {'StdNo': '532', 'StuName': 'Madhu', 'StuAge': 21, 'StuCity': 'Hyderabad', 'Phno': 85457854}\n",
      "\n",
      " Uadated Dictionary is : {'StdNo': '532', 'StuName': 'Madhu', 'StuCity': 'Hyderabad', 'Phno': 85457854}\n",
      "Length of Dictionary is : 4\n",
      "\n",
      " New Dictionary is : {'StdNo': '532', 'StuName': 'Madhu', 'StuCity': 'Hyderabad', 'Phno': 85457854}\n",
      "\n",
      " Uadated Dictionary is : {}\n"
     ]
    }
   ],
   "source": [
    "dict1 = {'StdNo':'532','StuName': 'Naveen', 'StuAge': 21, 'StuCity': 'Hyderabad'}\n",
    "print(\"\\n Dictionary is :\",dict1)\n",
    "#Accessing specific values \n",
    "print(\"\\n Student Name is :\",dict1['StuName'])\n",
    "print(\"\\n Student City is :\",dict1['StuCity'])\n",
    "#Display all Keys\n",
    "print(\"\\n All Keys in Dictionary \")\n",
    "for x in dict1:\n",
    "    print(x)\n",
    "#Display all values\n",
    "print(\"\\n All Values in Dictionary \")\n",
    "for x in dict1:\n",
    "    print(dict1[x])\n",
    "#Adding items\n",
    "dict1[\"Phno\"]=85457854\n",
    "#Updated dictoinary\n",
    "print(\"\\n Uadated Dictionary is :\",dict1)\n",
    "#Change values\n",
    "dict1[\"StuName\"]=\"Madhu\"\n",
    "#Updated dictoinary\n",
    "print(\"\\n Uadated Dictionary is :\",dict1)\n",
    "#Removing Items\n",
    "dict1.pop(\"StuAge\");\n",
    "#Updated dictoinary\n",
    "print(\"\\n Uadated Dictionary is :\",dict1)\n",
    "#Length of Dictionary\n",
    "print(\"Length of Dictionary is :\",len(dict1))\n",
    "#Copy a Dictionary\n",
    "dict2=dict1.copy()\n",
    "#New dictoinary\n",
    "print(\"\\n New Dictionary is :\",dict2)\n",
    "#empties the dictionary\n",
    "dict1.clear()\n",
    "print(\"\\n Uadated Dictionary is :\",dict1)"
   ]
  }
 ],
 "metadata": {
  "colab": {
   "authorship_tag": "ABX9TyNZ5tykfR1mdPajkDysUtFP",
   "collapsed_sections": [],
   "name": "Program 7.ipynb",
   "provenance": []
  },
  "kernelspec": {
   "display_name": "Python 3",
   "language": "python",
   "name": "python3"
  },
  "language_info": {
   "codemirror_mode": {
    "name": "ipython",
    "version": 3
   },
   "file_extension": ".py",
   "mimetype": "text/x-python",
   "name": "python",
   "nbconvert_exporter": "python",
   "pygments_lexer": "ipython3",
   "version": "3.8.8"
  }
 },
 "nbformat": 4,
 "nbformat_minor": 1
}
